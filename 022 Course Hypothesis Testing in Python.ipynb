{
 "cells": [
  {
   "cell_type": "markdown",
   "id": "f36b7908-46c0-4066-b2f3-e01bf1096ab1",
   "metadata": {},
   "source": [
    "# Chapter 1: Introduction to Hypothesis testing\n",
    "A hypothesis is a statement about an unkown population parameter. A hypothesis test comapres two competing hypotheses. The null hypothesis is the existing idea and the alternative hypothesis is the new idea, challenging the existing idea. The initial assumption is that the null hypothesis is true. We need to have evidence beyond reasonable doubt to reject the existing idea (null hypothesis) in favour of new idea (alternative hypothesis). <br>\n",
    "The tails of the distribution that are relevant depend on whether the alternative hypothesis refers to \"greater than\", \"less than\", or \"differences between.\""
   ]
  },
  {
   "cell_type": "code",
   "execution_count": 30,
   "id": "020e9f56-cab5-4164-99fd-27b27b83190c",
   "metadata": {},
   "outputs": [],
   "source": [
    "import pandas as pd\n",
    "import numpy as np\n",
    "import matplotlib.pyplot as plt\n",
    "import seaborn as sns\n",
    "import random                 # np.random is a random package in numpy. Besides this one, there is a seperate package called random. Some\n",
    "                              # functions are available in np.random whereas different functions are available in random.\n",
    "import itertools\n",
    "from scipy.stats import norm\n",
    "from scipy.stats import t\n",
    "import pingouin\n",
    "\n",
    "pd.set_option(\"display.precision\", 3)                #do not always work properly. But \n",
    "pd.options.display.float_format = '{:.3f}'.format   # suit for me, thanks a lot."
   ]
  },
  {
   "cell_type": "markdown",
   "id": "fb90c921-5d4e-4ab1-8cfd-02f89658b75e",
   "metadata": {},
   "source": [
    "## 1.1. Hypothesis tests and z-scores"
   ]
  },
  {
   "cell_type": "code",
   "execution_count": 2,
   "id": "58b2578b-a195-4f37-837e-df0e0ad26de3",
   "metadata": {},
   "outputs": [
    {
     "data": {
      "text/html": [
       "<div>\n",
       "<style scoped>\n",
       "    .dataframe tbody tr th:only-of-type {\n",
       "        vertical-align: middle;\n",
       "    }\n",
       "\n",
       "    .dataframe tbody tr th {\n",
       "        vertical-align: top;\n",
       "    }\n",
       "\n",
       "    .dataframe thead th {\n",
       "        text-align: right;\n",
       "    }\n",
       "</style>\n",
       "<table border=\"1\" class=\"dataframe\">\n",
       "  <thead>\n",
       "    <tr style=\"text-align: right;\">\n",
       "      <th></th>\n",
       "      <th>id</th>\n",
       "      <th>country</th>\n",
       "      <th>managed_by</th>\n",
       "      <th>fulfill_via</th>\n",
       "      <th>vendor_inco_term</th>\n",
       "      <th>shipment_mode</th>\n",
       "      <th>late_delivery</th>\n",
       "      <th>late</th>\n",
       "      <th>product_group</th>\n",
       "      <th>sub_classification</th>\n",
       "      <th>...</th>\n",
       "      <th>line_item_quantity</th>\n",
       "      <th>line_item_value</th>\n",
       "      <th>pack_price</th>\n",
       "      <th>unit_price</th>\n",
       "      <th>manufacturing_site</th>\n",
       "      <th>first_line_designation</th>\n",
       "      <th>weight_kilograms</th>\n",
       "      <th>freight_cost_usd</th>\n",
       "      <th>freight_cost_groups</th>\n",
       "      <th>line_item_insurance_usd</th>\n",
       "    </tr>\n",
       "  </thead>\n",
       "  <tbody>\n",
       "    <tr>\n",
       "      <th>0</th>\n",
       "      <td>36203.000</td>\n",
       "      <td>Nigeria</td>\n",
       "      <td>PMO - US</td>\n",
       "      <td>Direct Drop</td>\n",
       "      <td>EXW</td>\n",
       "      <td>Air</td>\n",
       "      <td>1.000</td>\n",
       "      <td>Yes</td>\n",
       "      <td>HRDT</td>\n",
       "      <td>HIV test</td>\n",
       "      <td>...</td>\n",
       "      <td>2996.000</td>\n",
       "      <td>266644.000</td>\n",
       "      <td>89.000</td>\n",
       "      <td>0.890</td>\n",
       "      <td>Alere Medical Co., Ltd.</td>\n",
       "      <td>Yes</td>\n",
       "      <td>1426.000</td>\n",
       "      <td>33279.830</td>\n",
       "      <td>expensive</td>\n",
       "      <td>373.830</td>\n",
       "    </tr>\n",
       "    <tr>\n",
       "      <th>1</th>\n",
       "      <td>30998.000</td>\n",
       "      <td>Botswana</td>\n",
       "      <td>PMO - US</td>\n",
       "      <td>Direct Drop</td>\n",
       "      <td>EXW</td>\n",
       "      <td>Air</td>\n",
       "      <td>0.000</td>\n",
       "      <td>No</td>\n",
       "      <td>HRDT</td>\n",
       "      <td>HIV test</td>\n",
       "      <td>...</td>\n",
       "      <td>25.000</td>\n",
       "      <td>800.000</td>\n",
       "      <td>32.000</td>\n",
       "      <td>1.600</td>\n",
       "      <td>Trinity Biotech, Plc</td>\n",
       "      <td>Yes</td>\n",
       "      <td>10.000</td>\n",
       "      <td>559.890</td>\n",
       "      <td>reasonable</td>\n",
       "      <td>1.720</td>\n",
       "    </tr>\n",
       "    <tr>\n",
       "      <th>2</th>\n",
       "      <td>69871.000</td>\n",
       "      <td>Vietnam</td>\n",
       "      <td>PMO - US</td>\n",
       "      <td>Direct Drop</td>\n",
       "      <td>EXW</td>\n",
       "      <td>Air</td>\n",
       "      <td>0.000</td>\n",
       "      <td>No</td>\n",
       "      <td>ARV</td>\n",
       "      <td>Adult</td>\n",
       "      <td>...</td>\n",
       "      <td>22925.000</td>\n",
       "      <td>110040.000</td>\n",
       "      <td>4.800</td>\n",
       "      <td>0.080</td>\n",
       "      <td>Hetero Unit III Hyderabad IN</td>\n",
       "      <td>Yes</td>\n",
       "      <td>3723.000</td>\n",
       "      <td>19056.130</td>\n",
       "      <td>expensive</td>\n",
       "      <td>181.570</td>\n",
       "    </tr>\n",
       "    <tr>\n",
       "      <th>3</th>\n",
       "      <td>17648.000</td>\n",
       "      <td>South Africa</td>\n",
       "      <td>PMO - US</td>\n",
       "      <td>Direct Drop</td>\n",
       "      <td>DDP</td>\n",
       "      <td>Ocean</td>\n",
       "      <td>0.000</td>\n",
       "      <td>No</td>\n",
       "      <td>ARV</td>\n",
       "      <td>Adult</td>\n",
       "      <td>...</td>\n",
       "      <td>152535.000</td>\n",
       "      <td>361507.950</td>\n",
       "      <td>2.370</td>\n",
       "      <td>0.040</td>\n",
       "      <td>Aurobindo Unit III, India</td>\n",
       "      <td>Yes</td>\n",
       "      <td>7698.000</td>\n",
       "      <td>11372.230</td>\n",
       "      <td>expensive</td>\n",
       "      <td>779.410</td>\n",
       "    </tr>\n",
       "    <tr>\n",
       "      <th>4</th>\n",
       "      <td>5647.000</td>\n",
       "      <td>Uganda</td>\n",
       "      <td>PMO - US</td>\n",
       "      <td>Direct Drop</td>\n",
       "      <td>EXW</td>\n",
       "      <td>Air</td>\n",
       "      <td>0.000</td>\n",
       "      <td>No</td>\n",
       "      <td>HRDT</td>\n",
       "      <td>HIV test - Ancillary</td>\n",
       "      <td>...</td>\n",
       "      <td>850.000</td>\n",
       "      <td>8.500</td>\n",
       "      <td>0.010</td>\n",
       "      <td>0.000</td>\n",
       "      <td>Inverness Japan</td>\n",
       "      <td>Yes</td>\n",
       "      <td>56.000</td>\n",
       "      <td>360.000</td>\n",
       "      <td>reasonable</td>\n",
       "      <td>0.010</td>\n",
       "    </tr>\n",
       "  </tbody>\n",
       "</table>\n",
       "<p>5 rows × 27 columns</p>\n",
       "</div>"
      ],
      "text/plain": [
       "         id       country managed_by  fulfill_via vendor_inco_term  \\\n",
       "0 36203.000       Nigeria   PMO - US  Direct Drop              EXW   \n",
       "1 30998.000      Botswana   PMO - US  Direct Drop              EXW   \n",
       "2 69871.000       Vietnam   PMO - US  Direct Drop              EXW   \n",
       "3 17648.000  South Africa   PMO - US  Direct Drop              DDP   \n",
       "4  5647.000        Uganda   PMO - US  Direct Drop              EXW   \n",
       "\n",
       "  shipment_mode  late_delivery late product_group    sub_classification  ...  \\\n",
       "0           Air          1.000  Yes          HRDT              HIV test  ...   \n",
       "1           Air          0.000   No          HRDT              HIV test  ...   \n",
       "2           Air          0.000   No           ARV                 Adult  ...   \n",
       "3         Ocean          0.000   No           ARV                 Adult  ...   \n",
       "4           Air          0.000   No          HRDT  HIV test - Ancillary  ...   \n",
       "\n",
       "  line_item_quantity line_item_value pack_price unit_price  \\\n",
       "0           2996.000      266644.000     89.000      0.890   \n",
       "1             25.000         800.000     32.000      1.600   \n",
       "2          22925.000      110040.000      4.800      0.080   \n",
       "3         152535.000      361507.950      2.370      0.040   \n",
       "4            850.000           8.500      0.010      0.000   \n",
       "\n",
       "             manufacturing_site first_line_designation  weight_kilograms  \\\n",
       "0       Alere Medical Co., Ltd.                    Yes          1426.000   \n",
       "1          Trinity Biotech, Plc                    Yes            10.000   \n",
       "2  Hetero Unit III Hyderabad IN                    Yes          3723.000   \n",
       "3     Aurobindo Unit III, India                    Yes          7698.000   \n",
       "4               Inverness Japan                    Yes            56.000   \n",
       "\n",
       "   freight_cost_usd  freight_cost_groups  line_item_insurance_usd  \n",
       "0         33279.830            expensive                  373.830  \n",
       "1           559.890           reasonable                    1.720  \n",
       "2         19056.130            expensive                  181.570  \n",
       "3         11372.230            expensive                  779.410  \n",
       "4           360.000           reasonable                    0.010  \n",
       "\n",
       "[5 rows x 27 columns]"
      ]
     },
     "execution_count": 2,
     "metadata": {},
     "output_type": "execute_result"
    }
   ],
   "source": [
    "# Calculating the sample mean\n",
    "# The late_shipments dataset contains supply chain data on the delivery of medical supplies. Each row represents one delivery of a part. The \n",
    "# late columns denotes whether or not the part was delivered late. A value of \"Yes\" means that the part was delivered late, and a value of \"No\"\n",
    "# means the part was delivered on time.\n",
    "# You'll begin your analysis by calculating a point estimate (or sample statistic), namely the proportion of late shipments.\n",
    "# In pandas, a value's proportion in a categorical DataFrame column can be quickly calculated using the syntax: \n",
    "  # prop = (df['col'] == val).mean()\n",
    "\n",
    "# Print the late_shipments dataset.\n",
    "late_shipments= pd.read_feather('late_shipments.feather')\n",
    "late_shipments.head()           # 1000 rows and 27 columns"
   ]
  },
  {
   "cell_type": "code",
   "execution_count": 3,
   "id": "59717f04-dd13-4da5-a2d4-5e9e971dd08f",
   "metadata": {},
   "outputs": [
    {
     "data": {
      "text/plain": [
       "0.061"
      ]
     },
     "execution_count": 3,
     "metadata": {},
     "output_type": "execute_result"
    }
   ],
   "source": [
    "# Calculate the proportion of late shipments in the sample; that is, the mean cases where the late column is \"Yes\".\n",
    "late_prop_sample= (late_shipments['late']== 'Yes').mean()\n",
    "late_prop_sample\n",
    "# so, 6.1% of the shipments have arrived late based on the given sample. Or, the proportion of late shipments in the sample is 0.061 or 6.1%."
   ]
  },
  {
   "cell_type": "code",
   "execution_count": 4,
   "id": "fed48f2c-f88a-4a4b-9bf0-8262ed34557d",
   "metadata": {},
   "outputs": [
    {
     "data": {
      "text/plain": [
       "5000"
      ]
     },
     "execution_count": 4,
     "metadata": {},
     "output_type": "execute_result"
    }
   ],
   "source": [
    "# Calculating a z-score\n",
    "# Since variables have arbitrary ranges and units, we need to standardize them. For example, a hypothesis test that gave different answers if \n",
    "# the variables were in Euros instead of US dollars would be of little value. Standardization avoids that.\n",
    "# One standardized value of interest in a hypothesis test is called a z-score. To calculate it, you need three numbers: the sample statistic \n",
    "# (point estimate), the hypothesized statistic, and the standard error of the statistic (estimated from the bootstrap distribution).\n",
    "# The sample statistic is available as late_prop_samp.\n",
    "# late_shipments_boot_distn is a bootstrap distribution of the proportion of late shipments, available as a list.\n",
    "late_prop_sample   # 0.061 and is a point estimate of shipments that arrive late in sample\n",
    "\n",
    "# construct the bootstrap distribution as:\n",
    "late_shipments_boot_distribution= []\n",
    "for i in range(1, 5001):\n",
    "    late_shipments_boot_distribution.append((late_shipments.sample(frac= 1, replace= True)['late']=='Yes').mean())\n",
    "    \n",
    "late_shipments_boot_distribution[0:5]\n",
    "len(late_shipments_boot_distribution)"
   ]
  },
  {
   "cell_type": "code",
   "execution_count": 5,
   "id": "c6061bcb-0716-4832-9dc6-3c3d62cac8dc",
   "metadata": {},
   "outputs": [
    {
     "data": {
      "text/plain": [
       "0.061"
      ]
     },
     "execution_count": 5,
     "metadata": {},
     "output_type": "execute_result"
    }
   ],
   "source": [
    "# Just for understanding of the above command\n",
    "(late_shipments.sample(frac= 1, replace= True)['late']== 'Yes').mean()"
   ]
  },
  {
   "cell_type": "code",
   "execution_count": 6,
   "id": "db2d7bd1-1cda-49d7-b9cd-5f1e18e739cd",
   "metadata": {},
   "outputs": [
    {
     "data": {
      "text/plain": [
       "0.13224550488465356"
      ]
     },
     "execution_count": 6,
     "metadata": {},
     "output_type": "execute_result"
    }
   ],
   "source": [
    "# Hypothesize that the proportion of late shipments is 6%.\n",
    "late_prop_hypo= 0.06\n",
    "late_prop_sample # 0.061\n",
    "# Calculate the standard error from the standard deviation of the bootstrap distribution.\n",
    "std_error= np.std(late_shipments_boot_distribution, ddof= 1)\n",
    "std_error     # 0.0075 is the standard deviation of the distribution of 5000 proportions (means) of late shipments.\n",
    "# Calculate the z_score\n",
    "z_score= (late_prop_sample - late_prop_hypo)/std_error\n",
    "z_score        # our sample statistic (0.061) is 0.133 standard deviations (of the bootstrap distribution) above the hypthesized population\n",
    "               # mean (0.06).\n",
    "# The z-score is a standardized measure of the difference between the sample statistic and the hypothesized statistic."
   ]
  },
  {
   "cell_type": "code",
   "execution_count": 7,
   "id": "ff8544e9-5fbd-4e64-9259-f603356bbb99",
   "metadata": {},
   "outputs": [
    {
     "data": {
      "image/png": "[encoded data removed]",
      "text/plain": [
       "<Figure size 432x288 with 1 Axes>"
      ]
     },
     "metadata": {
      "needs_background": "light"
     },
     "output_type": "display_data"
    }
   ],
   "source": [
    "plt.hist(late_shipments_boot_distribution)\n",
    "plt.show()"
   ]
  },
  {
   "cell_type": "markdown",
   "id": "b6524107-befb-4976-90b0-03485976508c",
   "metadata": {},
   "source": [
    "## 1.2. P-values\n",
    "P-value measures the probability of obtaining a result, assuming the null hypothesis is true. Small p-values reject the null hypothesis. <br>\n",
    "To calculate a p-value, we first must calculate a z-score as calculated above. <br>\n",
    "The tails of the distribution that are relevant depend on whether the alternative hypothesis refers to \"greater than\", \"less than\", or \"differences between.\" <br>\n",
    "The p-value is calculated by transforming the z-score with the standard normal cumulative distribution function."
   ]
  },
  {
   "cell_type": "code",
   "execution_count": 8,
   "id": "158744bf-46f4-4798-86ec-2d2ed0706565",
   "metadata": {},
   "outputs": [
    {
     "data": {
      "text/plain": [
       "0.4473950547370963"
      ]
     },
     "execution_count": 8,
     "metadata": {},
     "output_type": "execute_result"
    }
   ],
   "source": [
    "# Calculating p-values\n",
    "# In order to determine whether to choose the null hypothesis or the alternative hypothesis, you need to calculate a p-value from the z-score.\n",
    "# You'll now return to the late shipments dataset and the proportion of late shipments.\n",
    "# The null hypothesis is that the proportion of late shipments is six percent. The alternative hypothesis is that the proportion of late \n",
    "# shipments is greater than six percent.\n",
    "# The observed sample statistic, late_prop_samp, the hypothesized value, late_prop_hyp (6%), and the bootstrap standard error, std_error are \n",
    "# available. norm from scipy.stats has also been loaded without an alias.\n",
    "late_prop_sample   # 0.061\n",
    "late_prop_hypo     # 0.06\n",
    "std_error          # 0.0075\n",
    "\n",
    "# Calculate the z-score of late_prop_samp.\n",
    "z_score= (late_prop_sample - late_prop_hypo) / std_error\n",
    "z_score            # 0.1333\n",
    "\n",
    "# Calculate the p-value for the z-score, using a right-tailed test.\n",
    "p_value= norm.cdf(z_score, loc= 0, scale= 1)   # 0.553 = norm.cdf(z_score, loc= 0, scale= 1). To get a value equal to or less than 0.1333\n",
    "p_value                                        # in a normal distribution with mean 0 and standard devition 1 has a probability of 0.553 or\n",
    "                                               # 55.3 percent.\n",
    "p_value= 1 - p_value\n",
    "p_value                                       # to get a value equal to or greater than 0.1333 has a probability of 0.447 or 44.7%. We fail \n",
    "                                              # to reject (accept) the null hypothesis and conclude that the proportion of late shipments is \n",
    "                                              # six percent. Thus, the difference of 0.1% (6.1% - 6%) is merely by a chance."
   ]
  },
  {
   "cell_type": "markdown",
   "id": "da9df149-c799-4ba9-b80f-81b3515caa2d",
   "metadata": {},
   "source": [
    "## 1.3. Statistical significance\n",
    "Significance level gives us a cut-off point to decide which hypothesis to support.\n",
    "If a p-value is less than or equal to a significance level (alpha), we reject the null hypothesis. <br>\n",
    "False positive is when a null hypothesis is correct in a whole population and still it is rejected, on the basis of sample evidence, in favour of alternative hypothesis (Type I error). False negative is when a null hypothesis is not rejected (accepted) when alternative hypothesis is correct in a whole population (Type II error). "
   ]
  },
  {
   "cell_type": "code",
   "execution_count": 9,
   "id": "7e9093e3-7e39-48cb-9688-442b5b1395c4",
   "metadata": {},
   "outputs": [
    {
     "data": {
      "text/plain": [
       "0.076"
      ]
     },
     "execution_count": 9,
     "metadata": {},
     "output_type": "execute_result"
    }
   ],
   "source": [
    "# Calculating a confidence interval\n",
    "# If you give a single estimate of a sample statistic, you are bound to be wrong by some amount. For example, the hypothesized proportion of \n",
    "# late shipments was 6%. Even if evidence suggests the null hypothesis that the proportion of late shipments is equal to this, for any new \n",
    "# sample of shipments, the proportion is likely to be a little different due to sampling variability. Consequently, it's a good idea to state\n",
    "# a confidence interval. That is, you say, \"we are 95% 'confident' that the proportion of late shipments is between A and B\" (for some value of\n",
    "# A and B).\n",
    "# Sampling in Python demonstrated two methods for calculating confidence intervals. Here, you'll use quantiles of the bootstrap distribution \n",
    "# to calculate the confidence interval.\n",
    "# late_prop_samp and late_shipments_boot_distn are available; pandas and numpy are loaded with their usual aliases.\n",
    "late_prop_sample\n",
    "len(late_shipments_boot_distribution)\n",
    "\n",
    "# Calculate a 95% confidence interval from late_shipments_boot_distn using the quantile method, labeling the lower and upper intervals lower \n",
    "# and upper.\n",
    "lower= np.quantile(late_shipments_boot_distribution, 0.025)\n",
    "upper= np.quantile(late_shipments_boot_distribution, 0.975)\n",
    "lower                                 # 0.047 or 4.7%  # though we did not reject the null hypothesis and concluded that there the percentage\n",
    "upper                                 # 0.075 or 7.5%. # of late shipments is not greater than 6%, yet there is a chance that the future late\n",
    "                                                       # shipments percentages are different than 6%. The confidence interval tells us that\n",
    "                                                       # we are 95% confident that the percentage of late shipments in the whole population\n",
    "                                                       # is between 4.7% and 7.5%.\n",
    "\n",
    "# When you have a confidence interval width equal to one minus the significance level, if the hypothesized population parameter is within the \n",
    "# confidence interval, you should fail to reject the null hypothesis."
   ]
  },
  {
   "cell_type": "markdown",
   "id": "4302abf1-1ee0-4dfa-9799-d03591a00b5d",
   "metadata": {},
   "source": [
    "# Chapter 2: Two-sample and ANOVA tests"
   ]
  },
  {
   "cell_type": "markdown",
   "id": "641cf23a-0c83-40b6-a54c-91673c317e22",
   "metadata": {},
   "source": [
    "## 2.1. Performing t-tests\n",
    "Comapres sample statistics across groups in a variable. <br>\n",
    "The hypothesis test for determining if there is a difference between the means of two populations uses a different type of test statistic to\n",
    "the z-scores you saw in Chapter 1. It's called \"t\", and it can be calculated from three values from each sample using this equation.\n",
    "insert equation from the slides of this chapter. <br>\n",
    "Using a sample standard deviation to estimate the standard error is computationally easier than using bootstrapping. However, to correct for the approximation, you need to use a t-distribution when transforming the test statistic to get the p-value. <br>\n",
    "The normal distribution is essentially a t-distribution with infinite degrees of freedom."
   ]
  },
  {
   "cell_type": "code",
   "execution_count": 10,
   "id": "596d2f7f-8035-442a-bcfd-3eae4ceec2a3",
   "metadata": {},
   "outputs": [
    {
     "name": "stdout",
     "output_type": "stream",
     "text": [
      "1897.7912673056444 2715.6721311475408 3154.0395070841687 2544.688210903328 939 61\n"
     ]
    }
   ],
   "source": [
    "# Two sample mean test statistic\n",
    "# The hypothesis test for determining if there is a difference between the means of two populations uses a different type of test statistic to\n",
    "# the z-scores you saw in Chapter 1. It's called \"t\", and it can be calculated from three values from each sample using this equation.\n",
    "# insert equation from the slides of this chapter.\n",
    "# While trying to determine why some shipments are late, you may wonder if the weight of the shipments that were on time is less than the \n",
    "# weight of the shipments that were late. The late_shipments dataset has been split into a \"yes\" group, where late == \"Yes\" and a \"no\" group \n",
    "# where late == \"No\". The weight of the shipment is given in the weight_kilograms variable.\n",
    "# The sample means for the two groups are available as xbar_no and xbar_yes. The sample standard deviations are s_no and s_yes. The sample \n",
    "# sizes are n_no and n_yes. numpy is also loaded as np.\n",
    "\n",
    "# group the dataframe by the column 'late' which has values 'Yes' and 'No'\n",
    "late_groups= late_shipments.groupby('late')\n",
    "late_groups\n",
    "# find the mean weight for each group and assign them to their respective group names\n",
    "xbar= late_groups['weight_kilograms'].mean()\n",
    "xbar_no= xbar['No']\n",
    "xbar_yes= xbar['Yes']\n",
    "\n",
    "# find the standard deviation of each group and assign them to their respective group names\n",
    "s_dev= late_groups['weight_kilograms'].std()   # since this late_shipments is a sample, therefore, we don't have to specify ddof= 1 when using\n",
    "s_dev                                          # std() on a series or on a series object at the end of the command.\n",
    "s_no= s_dev['No']\n",
    "s_yes= s_dev['Yes']\n",
    "\n",
    "# find the each group size and assign them to their respective group names\n",
    "size= late_groups['weight_kilograms'].count()\n",
    "n_no= size['No']\n",
    "n_yes= size['Yes']\n",
    "\n",
    "print(xbar_no, xbar_yes, s_no, s_yes, n_no, n_yes)"
   ]
  },
  {
   "cell_type": "code",
   "execution_count": 11,
   "id": "a8884343-fb1b-4d2d-bdee-381dee73673d",
   "metadata": {},
   "outputs": [
    {
     "data": {
      "text/plain": [
       "2.3936661778766433"
      ]
     },
     "execution_count": 11,
     "metadata": {},
     "output_type": "execute_result"
    }
   ],
   "source": [
    "# Calculate the numerator of the test statistic\n",
    "numerator= (xbar_yes - xbar_no)\n",
    "numerator        # 817.88. the mean weight in yes group is 817.88 kgs greater than the mean weight in no group.\n",
    "# Calculate the denominator of the test statistic\n",
    "denominator= np.sqrt((s_yes ** 2 / n_yes) + (s_no ** 2 / n_no))\n",
    "denominator     # 341.6854. This is the standard error.\n",
    "# # Calculate the t test statistic\n",
    "t_stat= numerator / denominator\n",
    "t_stat          # the t_stat is 2.39. The interpretation has to be done in later exercises.\n",
    "\n",
    "# When testing for differences between means, the test statistic is called 't' rather than 'z', and can be calculated using six \n",
    "# numbers from the samples. Here, the value is about -2.39 or 2.39, depending on the order you calculated the numerator."
   ]
  },
  {
   "cell_type": "markdown",
   "id": "e7ed89bb-534f-4878-a1ea-140ea161907c",
   "metadata": {},
   "source": [
    "## 2.2. Calculating p-values from t-statistics\n",
    "Degrees of freedom is the maximum number of logically independent values in the data sample. Suppose, a sample has 5 independent values as: 2, 4, 5, 3 and a fifth value. Let's say this sample has a mean of 4. That means, the fifth value is not independent, that is, it must be 6 for the mean of the sample to be equal to 4. Thus, we can freely/independently choose 4 out of 5 values to have a mean of 4, but the fifth value has to be restricted. Thus, the degrees of freedom here is 4. <br>\n",
    "z-statistic is needed when using one sample statistic to estimate a population parameter. <br>\n",
    "t-statistic is needed when using multiple sample statistics (such as sample mean and sample standard deviation) to estimate a population parameter. "
   ]
  },
  {
   "cell_type": "code",
   "execution_count": 14,
   "id": "c8c0faf0-3cf2-42e9-8e3c-89516e90f209",
   "metadata": {},
   "outputs": [
    {
     "name": "stdout",
     "output_type": "stream",
     "text": [
      "1897.7912673056444 2715.6721311475408 3154.0395070841687 2544.688210903328 939 61\n"
     ]
    },
    {
     "data": {
      "text/plain": [
       "-2.3936661778766433"
      ]
     },
     "execution_count": 14,
     "metadata": {},
     "output_type": "execute_result"
    }
   ],
   "source": [
    "# From t to p\n",
    "# Previously, you calculated the test statistic for the two-sample problem of whether the mean weight of shipments is smaller for shipments \n",
    "# that weren't late (late == \"No\") compared to shipments that were late (late == \"Yes\"). In order to make decisions about it, you need to \n",
    "# transform the test statistic with a cumulative distribution function to get a p-value.\n",
    "# Recall the hypotheses:\n",
    "# Ho: The mean weight of shipments that weren't late is the same as the mean weight of shipments that were late.\n",
    "# Ha: The mean weight of shipments that weren't late is less than the mean weight of shipments that were late.\n",
    "# The test statistic, t_stat, is available, as are the samples sizes for each group, n_no and n_yes. Use a significance level of alpha = 0.05.\n",
    "# t has also been imported from scipy.stats.\n",
    "alpha= 0.05\n",
    "print(xbar_no, xbar_yes, s_no, s_yes, n_no, n_yes)  # 1897.7912673056444 2715.6721311475408 3154.0395070841687 2544.688210903328 939 61\n",
    "\n",
    "# Calculate the degrees of freedom for the test.\n",
    "degrees_of_freedom= n_no + n_yes - 2\n",
    "degrees_of_freedom      # 998 since both subgroups have total size = 1000\n",
    "\n",
    "# Compute the p-value using the test statistic, t_stat\n",
    "t_stat= -t_stat                 # 2.39 computed above. But changed here to -2.39 since the alternative hypothesis evaluates one sample weight\n",
    "t_stat                          # being less than another sample weight (the no vs yes samples). Or subtract the 'yes' sample mean weight from\n",
    "                                # 'no' sample mean wegith so that the numerator in the above cell becomses negative so that we can have the \n",
    "                                # left tail to work with. If the Ha evaluates that the 'yes' sample mean weight is greater than the 'no' sample\n",
    "                                # mean weight, then we should work with the right tail, which requires to have positive t-statistics which fur-\n",
    "                                # ther requires that 'no' sample mean weight should be subtracted from the 'yes' sample mean weight."
   ]
  },
  {
   "cell_type": "code",
   "execution_count": 15,
   "id": "4a8349db-3da7-47ad-82c9-916e0ecf2a82",
   "metadata": {},
   "outputs": [
    {
     "data": {
      "text/plain": [
       "0.008432382146249523"
      ]
     },
     "execution_count": 15,
     "metadata": {},
     "output_type": "execute_result"
    }
   ],
   "source": [
    "p_value= t.cdf(t_stat, df= degrees_of_freedom)      # 0.0084. loc= 0, scale= 1 are optional since they are the default values and gets \n",
    "p_value                                             # the same result. t-distribution with mean 0 and standard deviation 1 with 998 dof\n",
    "                                                    # have 0.84% values below -2.39. Alternatively, stating that the probability of getting\n",
    "                                                    # the 'no' sample mean weight (1897.79) this much lower than the 'yes' sample mean weight \n",
    "                                                    # (2715.67) is only 0.84% out of 100%. Thus, the null of no weight difference is rejected\n",
    "                                                    # to conclude that the shipments that arrive on time are indeed lighter in weight than the\n",
    "                                                    # shipments that arrive late.\n",
    "                    \n",
    "# When the standard error is estimated from the sample standard deviation and sample size, the test statistic is transformed into a p-value \n",
    "# using the t-distribution. (standard error is estimated from the sample standard deviation and sample size a few cells above rather than esti-\n",
    "# mating it from the bootstrap distribution)."
   ]
  },
  {
   "cell_type": "markdown",
   "id": "dcd764fa-2e31-4938-878a-cd17dd37b775",
   "metadata": {},
   "source": [
    "## 2.3. Paired t-test\n",
    "If you have repeated observations of something, then those observations form pairs. For example, conducting an election survey in a same city in different years."
   ]
  },
  {
   "cell_type": "code",
   "execution_count": 16,
   "id": "38330601-19b7-481d-a991-b300802be5da",
   "metadata": {},
   "outputs": [
    {
     "data": {
      "text/html": [
       "<div>\n",
       "<style scoped>\n",
       "    .dataframe tbody tr th:only-of-type {\n",
       "        vertical-align: middle;\n",
       "    }\n",
       "\n",
       "    .dataframe tbody tr th {\n",
       "        vertical-align: top;\n",
       "    }\n",
       "\n",
       "    .dataframe thead th {\n",
       "        text-align: right;\n",
       "    }\n",
       "</style>\n",
       "<table border=\"1\" class=\"dataframe\">\n",
       "  <thead>\n",
       "    <tr style=\"text-align: right;\">\n",
       "      <th></th>\n",
       "      <th>state</th>\n",
       "      <th>county</th>\n",
       "      <th>dem_percent_12</th>\n",
       "      <th>dem_percent_16</th>\n",
       "      <th>diff</th>\n",
       "    </tr>\n",
       "  </thead>\n",
       "  <tbody>\n",
       "    <tr>\n",
       "      <th>0</th>\n",
       "      <td>Alabama</td>\n",
       "      <td>Bullock</td>\n",
       "      <td>76.306</td>\n",
       "      <td>74.947</td>\n",
       "      <td>1.359</td>\n",
       "    </tr>\n",
       "    <tr>\n",
       "      <th>1</th>\n",
       "      <td>Alabama</td>\n",
       "      <td>Chilton</td>\n",
       "      <td>19.454</td>\n",
       "      <td>15.847</td>\n",
       "      <td>3.606</td>\n",
       "    </tr>\n",
       "    <tr>\n",
       "      <th>2</th>\n",
       "      <td>Alabama</td>\n",
       "      <td>Clay</td>\n",
       "      <td>26.674</td>\n",
       "      <td>18.675</td>\n",
       "      <td>7.999</td>\n",
       "    </tr>\n",
       "    <tr>\n",
       "      <th>3</th>\n",
       "      <td>Alabama</td>\n",
       "      <td>Cullman</td>\n",
       "      <td>14.662</td>\n",
       "      <td>10.028</td>\n",
       "      <td>4.634</td>\n",
       "    </tr>\n",
       "    <tr>\n",
       "      <th>4</th>\n",
       "      <td>Alabama</td>\n",
       "      <td>Escambia</td>\n",
       "      <td>36.916</td>\n",
       "      <td>31.021</td>\n",
       "      <td>5.895</td>\n",
       "    </tr>\n",
       "    <tr>\n",
       "      <th>...</th>\n",
       "      <td>...</td>\n",
       "      <td>...</td>\n",
       "      <td>...</td>\n",
       "      <td>...</td>\n",
       "      <td>...</td>\n",
       "    </tr>\n",
       "    <tr>\n",
       "      <th>495</th>\n",
       "      <td>Wyoming</td>\n",
       "      <td>Uinta</td>\n",
       "      <td>19.065</td>\n",
       "      <td>14.191</td>\n",
       "      <td>4.874</td>\n",
       "    </tr>\n",
       "    <tr>\n",
       "      <th>496</th>\n",
       "      <td>Wyoming</td>\n",
       "      <td>Washakie</td>\n",
       "      <td>20.132</td>\n",
       "      <td>13.949</td>\n",
       "      <td>6.183</td>\n",
       "    </tr>\n",
       "    <tr>\n",
       "      <th>497</th>\n",
       "      <td>Alaska</td>\n",
       "      <td>District 3</td>\n",
       "      <td>33.515</td>\n",
       "      <td>16.301</td>\n",
       "      <td>17.214</td>\n",
       "    </tr>\n",
       "    <tr>\n",
       "      <th>498</th>\n",
       "      <td>Alaska</td>\n",
       "      <td>District 18</td>\n",
       "      <td>61.284</td>\n",
       "      <td>52.810</td>\n",
       "      <td>8.474</td>\n",
       "    </tr>\n",
       "    <tr>\n",
       "      <th>499</th>\n",
       "      <td>Alaska</td>\n",
       "      <td>District 24</td>\n",
       "      <td>42.914</td>\n",
       "      <td>39.405</td>\n",
       "      <td>3.509</td>\n",
       "    </tr>\n",
       "  </tbody>\n",
       "</table>\n",
       "<p>500 rows × 5 columns</p>\n",
       "</div>"
      ],
      "text/plain": [
       "       state       county  dem_percent_12  dem_percent_16   diff\n",
       "0    Alabama      Bullock          76.306          74.947  1.359\n",
       "1    Alabama      Chilton          19.454          15.847  3.606\n",
       "2    Alabama         Clay          26.674          18.675  7.999\n",
       "3    Alabama      Cullman          14.662          10.028  4.634\n",
       "4    Alabama     Escambia          36.916          31.021  5.895\n",
       "..       ...          ...             ...             ...    ...\n",
       "495  Wyoming        Uinta          19.065          14.191  4.874\n",
       "496  Wyoming     Washakie          20.132          13.949  6.183\n",
       "497   Alaska   District 3          33.515          16.301 17.214\n",
       "498   Alaska  District 18          61.284          52.810  8.474\n",
       "499   Alaska  District 24          42.914          39.405  3.509\n",
       "\n",
       "[500 rows x 5 columns]"
      ]
     },
     "execution_count": 16,
     "metadata": {},
     "output_type": "execute_result"
    }
   ],
   "source": [
    "# Visualizing the difference\n",
    "# Before you start running hypothesis tests, it's a great idea to perform some exploratory data analysis; that is, calculating summary \n",
    "# statistics and visualizing distributions.\n",
    "# Here, you'll look at the proportion of county-level votes for the Democratic candidate in 2012 and 2016, sample_dem_data. Since the counties\n",
    "# are the same in both years, these samples are paired. The columns containing the samples are dem_percent_12 and dem_percent_16.\n",
    "# dem_votes_potus_12_16 is available as sample_dem_data. pandas and matplotlib.pyplot are loaded with their usual aliases.\n",
    "\n",
    "# import the data\n",
    "sample_dem_data= pd.read_feather('dem_votes_potus_12_16.feather')\n",
    "sample_dem_data\n",
    "\n",
    "# Create a new diff column containing the percentage of votes for the democratic candidate in 2012 minus the percentage of votes for the \n",
    "# democratic candidate in 2016.\n",
    "sample_dem_data['diff']= sample_dem_data['dem_percent_12'] - sample_dem_data['dem_percent_16']\n",
    "sample_dem_data         # 500 rows and 5 columns."
   ]
  },
  {
   "cell_type": "code",
   "execution_count": 17,
   "id": "f01a823d-9898-485d-8ce8-e36c8e1f5711",
   "metadata": {},
   "outputs": [
    {
     "data": {
      "text/plain": [
       "6.829312660106832"
      ]
     },
     "execution_count": 17,
     "metadata": {},
     "output_type": "execute_result"
    }
   ],
   "source": [
    "# Calculate the mean of the diff column as xbar_diff.\n",
    "xbar_diff= sample_dem_data['diff'].mean()   # we could have alternatively taken the each column mean to make it a two sample mean test.\n",
    "xbar_diff        # the mean difference is 6.829%. On average the democrat votes have reduced by 6.829% from 2012 to 2016 based on our sample."
   ]
  },
  {
   "cell_type": "code",
   "execution_count": 18,
   "id": "0c02c25f-a0fb-4403-9509-b0396ff0f138",
   "metadata": {},
   "outputs": [
    {
     "data": {
      "text/plain": [
       "5.040139140132316"
      ]
     },
     "execution_count": 18,
     "metadata": {},
     "output_type": "execute_result"
    }
   ],
   "source": [
    "# Calculate the standard deviation of the diff column as s_diff\n",
    "s_diff= sample_dem_data['diff'].std()\n",
    "s_diff        # the standard deviaiton of the difference column/series is 5.04% showing average dispersion around the mean calculated above."
   ]
  },
  {
   "cell_type": "code",
   "execution_count": 19,
   "id": "9253c28c-b820-4090-aa5a-5b8f6dbd14df",
   "metadata": {},
   "outputs": [
    {
     "data": {
      "image/png": "[encoded data removed]",
      "text/plain": [
       "<Figure size 432x288 with 1 Axes>"
      ]
     },
     "metadata": {
      "needs_background": "light"
     },
     "output_type": "display_data"
    }
   ],
   "source": [
    "# Plot a histogram of the diff column with 20 bins.\n",
    "fig, ax= plt.subplots()\n",
    "ax.hist(sample_dem_data['diff'], bins= 20)    # looks kind of normal distribution\n",
    "plt.show()"
   ]
  },
  {
   "cell_type": "code",
   "execution_count": 20,
   "id": "effd374b-d641-44ce-9507-160955c31e8c",
   "metadata": {},
   "outputs": [
    {
     "name": "stdout",
     "output_type": "stream",
     "text": [
      "6.829312660106832 5.040139140132316\n"
     ]
    }
   ],
   "source": [
    "print(xbar_diff, s_diff)"
   ]
  },
  {
   "cell_type": "code",
   "execution_count": 35,
   "id": "5f519980-c6f0-47d4-be9e-9f1376428bd9",
   "metadata": {},
   "outputs": [
    {
     "name": "stdout",
     "output_type": "stream",
     "text": [
      "500\n",
      "499\n",
      "30.298384475151405\n",
      "0.0\n",
      "0.0\n"
     ]
    }
   ],
   "source": [
    "# As in the previous exercise, you'll explore the difference between the proportion of county-level votes for the Democratic candidate in 2012 \n",
    "# and 2016 to identify if the difference is significant.\n",
    "   # Ho: There is no difference in the proportion of county-level votes for the Democratic candidate in 2012 and 2016.\n",
    "   # Ha: There is difference in the proportion of county-level votes for the Democratic candidate in 2012 and 2016.\n",
    "\n",
    "len(sample_dem_data)       # or\n",
    "n_diff= len(sample_dem_data['diff'])\n",
    "print(n_diff)\n",
    "\n",
    "degrees_of_freedom= n_diff - 1\n",
    "print(degrees_of_freedom)\n",
    "\n",
    "t_stat= (xbar_diff - 0) / np.sqrt(s_diff ** 2 / n_diff)\n",
    "print(t_stat)\n",
    "\n",
    "p_value = 1 - t.cdf(t_stat, degrees_of_freedom)\n",
    "print(p_value)\n",
    "p_value = p_value * 2  # for two-sided t test\n",
    "print(p_value)"
   ]
  },
  {
   "cell_type": "code",
   "execution_count": 36,
   "id": "a6af61a9-5527-46de-8947-eebf2cc080b9",
   "metadata": {},
   "outputs": [
    {
     "data": {
      "text/html": [
       "<div>\n",
       "<style scoped>\n",
       "    .dataframe tbody tr th:only-of-type {\n",
       "        vertical-align: middle;\n",
       "    }\n",
       "\n",
       "    .dataframe tbody tr th {\n",
       "        vertical-align: top;\n",
       "    }\n",
       "\n",
       "    .dataframe thead th {\n",
       "        text-align: right;\n",
       "    }\n",
       "</style>\n",
       "<table border=\"1\" class=\"dataframe\">\n",
       "  <thead>\n",
       "    <tr style=\"text-align: right;\">\n",
       "      <th></th>\n",
       "      <th>T</th>\n",
       "      <th>dof</th>\n",
       "      <th>alternative</th>\n",
       "      <th>p-val</th>\n",
       "      <th>CI95%</th>\n",
       "      <th>cohen-d</th>\n",
       "      <th>BF10</th>\n",
       "      <th>power</th>\n",
       "    </tr>\n",
       "  </thead>\n",
       "  <tbody>\n",
       "    <tr>\n",
       "      <th>T-test</th>\n",
       "      <td>30.298</td>\n",
       "      <td>499</td>\n",
       "      <td>two-sided</td>\n",
       "      <td>0.000</td>\n",
       "      <td>[6.39, 7.27]</td>\n",
       "      <td>1.355</td>\n",
       "      <td>2.246e+111</td>\n",
       "      <td>1.000</td>\n",
       "    </tr>\n",
       "  </tbody>\n",
       "</table>\n",
       "</div>"
      ],
      "text/plain": [
       "            T  dof alternative  p-val         CI95%  cohen-d        BF10  \\\n",
       "T-test 30.298  499   two-sided  0.000  [6.39, 7.27]    1.355  2.246e+111   \n",
       "\n",
       "        power  \n",
       "T-test  1.000  "
      ]
     },
     "execution_count": 36,
     "metadata": {},
     "output_type": "execute_result"
    }
   ],
   "source": [
    "# Using ttest()\n",
    "# Manually calculating test statistics and transforming them with a CDF to get a p-value is a lot of effort to compare two sample means. The \n",
    "# comparison of two sample means is called a t-test, and the pingouin Python package has a .ttest() method to accomplish it. This method \n",
    "# provides some flexibility in how you perform the test.\n",
    "# As in the previous exercise, you'll explore the difference between the proportion of county-level votes for the Democratic candidate in 2012\n",
    "# and 2016 to identify if the difference is significant.\n",
    "# sample_dem_data is available and has the columns diff, dem_percent_12, and dem_percent_16 in addition to the state and county names. \n",
    "# pingouin and has been loaded along with pandas as pd.\n",
    "sample_dem_data\n",
    "\n",
    "# Conduct a t-test on the sample differences (the diff column of sample_dem_data), using an appropriate alternative hypothesis chosen from \n",
    "# \"two-sided\", \"less\", and \"greater\".\n",
    "test_results= pingouin.ttest(x= sample_dem_data['diff'], y= 0, alternative= 'two-sided')  # y= 0 is the hypothesized mean difference in Ho.\n",
    "test_results"
   ]
  },
  {
   "cell_type": "code",
   "execution_count": 42,
   "id": "dc4c96ea-7785-481c-a00b-1f95bafda582",
   "metadata": {},
   "outputs": [
    {
     "data": {
      "text/html": [
       "<div>\n",
       "<style scoped>\n",
       "    .dataframe tbody tr th:only-of-type {\n",
       "        vertical-align: middle;\n",
       "    }\n",
       "\n",
       "    .dataframe tbody tr th {\n",
       "        vertical-align: top;\n",
       "    }\n",
       "\n",
       "    .dataframe thead th {\n",
       "        text-align: right;\n",
       "    }\n",
       "</style>\n",
       "<table border=\"1\" class=\"dataframe\">\n",
       "  <thead>\n",
       "    <tr style=\"text-align: right;\">\n",
       "      <th></th>\n",
       "      <th>T</th>\n",
       "      <th>dof</th>\n",
       "      <th>alternative</th>\n",
       "      <th>p-val</th>\n",
       "      <th>CI95%</th>\n",
       "      <th>cohen-d</th>\n",
       "      <th>BF10</th>\n",
       "      <th>power</th>\n",
       "    </tr>\n",
       "  </thead>\n",
       "  <tbody>\n",
       "    <tr>\n",
       "      <th>T-test</th>\n",
       "      <td>30.298</td>\n",
       "      <td>499</td>\n",
       "      <td>two-sided</td>\n",
       "      <td>0.000</td>\n",
       "      <td>[6.39, 7.27]</td>\n",
       "      <td>0.454</td>\n",
       "      <td>2.246e+111</td>\n",
       "      <td>1.000</td>\n",
       "    </tr>\n",
       "  </tbody>\n",
       "</table>\n",
       "</div>"
      ],
      "text/plain": [
       "            T  dof alternative  p-val         CI95%  cohen-d        BF10  \\\n",
       "T-test 30.298  499   two-sided  0.000  [6.39, 7.27]    0.454  2.246e+111   \n",
       "\n",
       "        power  \n",
       "T-test  1.000  "
      ]
     },
     "execution_count": 42,
     "metadata": {},
     "output_type": "execute_result"
    }
   ],
   "source": [
    "# Conduct a paired test on the democratic votes in 2012 and 2016 (the dem_percent_12 and dem_percent_16 columns of sample_dem_data), using an \n",
    "# appropriate alternative hypothesis.\n",
    "paired_test_results= pingouin.ttest(x= sample_dem_data['dem_percent_12'], y= sample_dem_data['dem_percent_16'], paired= True, \\\n",
    "                                    alternative= 'two-sided')\n",
    "paired_test_results               # same result as above. Thus, for a paired t-test, we can compute the difference column and conduct the paired\n",
    "                                  # t-test without specify 'paired=True' or without computing the difference, we can specify both the columns\n",
    "                                  # or samples as x and y and then also specify 'paired=True' to conduct the same paired t-test and obtain the\n",
    "                                  # same result."
   ]
  },
  {
   "cell_type": "code",
   "execution_count": 44,
   "id": "ed668285-bc73-41ef-b9fa-70f49331477d",
   "metadata": {},
   "outputs": [
    {
     "data": {
      "text/html": [
       "<div>\n",
       "<style scoped>\n",
       "    .dataframe tbody tr th:only-of-type {\n",
       "        vertical-align: middle;\n",
       "    }\n",
       "\n",
       "    .dataframe tbody tr th {\n",
       "        vertical-align: top;\n",
       "    }\n",
       "\n",
       "    .dataframe thead th {\n",
       "        text-align: right;\n",
       "    }\n",
       "</style>\n",
       "<table border=\"1\" class=\"dataframe\">\n",
       "  <thead>\n",
       "    <tr style=\"text-align: right;\">\n",
       "      <th></th>\n",
       "      <th>T</th>\n",
       "      <th>dof</th>\n",
       "      <th>alternative</th>\n",
       "      <th>p-val</th>\n",
       "      <th>CI95%</th>\n",
       "      <th>cohen-d</th>\n",
       "      <th>BF10</th>\n",
       "      <th>power</th>\n",
       "    </tr>\n",
       "  </thead>\n",
       "  <tbody>\n",
       "    <tr>\n",
       "      <th>T-test</th>\n",
       "      <td>7.182</td>\n",
       "      <td>998</td>\n",
       "      <td>two-sided</td>\n",
       "      <td>0.000</td>\n",
       "      <td>[4.96, 8.7]</td>\n",
       "      <td>0.454</td>\n",
       "      <td>4.308e+09</td>\n",
       "      <td>1.000</td>\n",
       "    </tr>\n",
       "  </tbody>\n",
       "</table>\n",
       "</div>"
      ],
      "text/plain": [
       "           T  dof alternative  p-val        CI95%  cohen-d       BF10  power\n",
       "T-test 7.182  998   two-sided  0.000  [4.96, 8.7]    0.454  4.308e+09  1.000"
      ]
     },
     "execution_count": 44,
     "metadata": {},
     "output_type": "execute_result"
    }
   ],
   "source": [
    "# Compare the paired t-test to an (inappropriate) unpaired test on the same data. How does the p-value change?\n",
    "pingouin.ttest(x= sample_dem_data['dem_percent_12'], y= sample_dem_data['dem_percent_16'], alternative= 'two-sided')\n",
    "\n",
    "# The p-value from the unpaired test is greater than than the p-value from the paired test (if taken to the highest precision as on DataCamp)."
   ]
  },
  {
   "cell_type": "markdown",
   "id": "48689f93-54d9-4187-b78c-306bde8c0c1a",
   "metadata": {},
   "source": [
    "## 2.4. ANOVA tests\n",
    "ANOVA can be used to analyze the differences between more than two groups. For two groups, unpaired or paired t test can be used."
   ]
  },
  {
   "cell_type": "code",
   "execution_count": 57,
   "id": "af106a9e-4281-4956-85e7-17321e254254",
   "metadata": {},
   "outputs": [
    {
     "name": "stdout",
     "output_type": "stream",
     "text": [
      "shipment_mode\n",
      "Air           39.712\n",
      "Air Charter    4.227\n",
      "Ocean          6.432\n",
      "Name: pack_price, dtype: float64 shipment_mode\n",
      "Air           48.933\n",
      "Air Charter    0.993\n",
      "Ocean          5.303\n",
      "Name: pack_price, dtype: float64\n"
     ]
    },
    {
     "data": {
      "image/png": "[encoded data removed]",
      "text/plain": [
       "<Figure size 432x288 with 1 Axes>"
      ]
     },
     "metadata": {
      "needs_background": "light"
     },
     "output_type": "display_data"
    },
    {
     "data": {
      "image/png": "[encoded data removed]",
      "text/plain": [
       "<Figure size 432x288 with 1 Axes>"
      ]
     },
     "metadata": {
      "needs_background": "light"
     },
     "output_type": "display_data"
    }
   ],
   "source": [
    "# Visualizing many categories\n",
    "# So far in this chapter, we've only considered the case of differences in a numeric variable between two categories. Of course, many datasets \n",
    "# contain more categories. Before you get to conducting tests on many categories, it's often helpful to perform exploratory data analysis (EDA),\n",
    "# calculating summary statistics for each group and visualizing the distributions of the numeric variable for each category using box plots.\n",
    "# Here, we'll return to the late shipments data, and how the price of each package (pack_price) varies between the three shipment modes \n",
    "# (shipment_mode): \"Air\", \"Air Charter\", and \"Ocean\".\n",
    "# late_shipments is available; pandas and matplotlib.pyplot are loaded with their standard aliases, and seaborn is loaded as sns.\n",
    "late_shipments= pd.read_feather('late_shipments.feather')\n",
    "\n",
    "# Group late_shipments by shipment_mode and calculate the mean pack_price for each group, storing the result in xbar_pack_by_mode.\n",
    "xbar_pack_by_mode= late_shipments.groupby('shipment_mode')['pack_price'].mean()\n",
    "xbar_pack_by_mode\n",
    "\n",
    "# Group late_shipments by shipment_mode and calculate the standard deviation pack_price for each group, storing the result in s_pack_by_mode.\n",
    "s_pack_by_mode= late_shipments.groupby('shipment_mode')['pack_price'].std()\n",
    "\n",
    "print(xbar_pack_by_mode, s_pack_by_mode)\n",
    "\n",
    "# Create a boxplot from late_shipments with \"pack_price\" as x and \"shipment_mode\" as y.\n",
    "sns.boxplot(x= 'shipment_mode', y= 'pack_price', data= late_shipments)  # this x and y makes more sense since pack_price should depend on \n",
    "plt.show()                                                              # shipment_mode.\n",
    "\n",
    "sns.boxplot(x= 'pack_price', y= 'shipment_mode', data= late_shipments)  # this is what DataCamp requires.\n",
    "plt.show()\n",
    "\n",
    "# There certainly looks to be a difference in the pack price between each of the three shipment modes. Do you think the differences are \n",
    "# statistically significant? Let's do hypothesis testing."
   ]
  },
  {
   "cell_type": "code",
   "execution_count": 61,
   "id": "9ffeb705-dbb4-451e-b2b4-3388862a45f9",
   "metadata": {},
   "outputs": [
    {
     "data": {
      "text/html": [
       "<div>\n",
       "<style scoped>\n",
       "    .dataframe tbody tr th:only-of-type {\n",
       "        vertical-align: middle;\n",
       "    }\n",
       "\n",
       "    .dataframe tbody tr th {\n",
       "        vertical-align: top;\n",
       "    }\n",
       "\n",
       "    .dataframe thead th {\n",
       "        text-align: right;\n",
       "    }\n",
       "</style>\n",
       "<table border=\"1\" class=\"dataframe\">\n",
       "  <thead>\n",
       "    <tr style=\"text-align: right;\">\n",
       "      <th></th>\n",
       "      <th>Source</th>\n",
       "      <th>ddof1</th>\n",
       "      <th>ddof2</th>\n",
       "      <th>F</th>\n",
       "      <th>p-unc</th>\n",
       "      <th>np2</th>\n",
       "    </tr>\n",
       "  </thead>\n",
       "  <tbody>\n",
       "    <tr>\n",
       "      <th>0</th>\n",
       "      <td>shipment_mode</td>\n",
       "      <td>2</td>\n",
       "      <td>997</td>\n",
       "      <td>21.865</td>\n",
       "      <td>0.000</td>\n",
       "      <td>0.042</td>\n",
       "    </tr>\n",
       "  </tbody>\n",
       "</table>\n",
       "</div>"
      ],
      "text/plain": [
       "          Source  ddof1  ddof2      F  p-unc   np2\n",
       "0  shipment_mode      2    997 21.865  0.000 0.042"
      ]
     },
     "execution_count": 61,
     "metadata": {},
     "output_type": "execute_result"
    }
   ],
   "source": [
    "# Conducting an ANOVA test\n",
    "# The box plots made it look like the distribution of pack price was different for each of the three shipment modes. However, it didn't tell us \n",
    "# whether the mean pack price was different in each category. To determine that, we can use an ANOVA test. The null and alternative hypotheses \n",
    "# can be written as follows.\n",
    "  # Ho: Pack prices for every category of shipment mode are the same.\n",
    "  # Ha: Pack prices for some categories of shipment mode are different.\n",
    "# We'll set a significance level of 0.1.\n",
    "alpha= 0.1\n",
    "# late_shipments is available and pingouin has been loaded.\n",
    "\n",
    "# Run an ANOVA on late_shipments investigating 'pack_price' (the dependent variable) between the groups of 'shipment_mode'.\n",
    "anova_results= pingouin.anova(data= late_shipments, dv= 'pack_price', between= 'shipment_mode') \n",
    "anova_results\n",
    "# the pack_price is significantly different between two groups at least out of total 3 groups (air, air_chart, ocean).\n",
    "\n",
    "# There is a significant difference in pack prices between the shipment modes. However, we don't know which shipment modes this applies to."
   ]
  },
  {
   "cell_type": "code",
   "execution_count": 64,
   "id": "2af90271-7f91-45ee-9013-9397a23f6ae3",
   "metadata": {},
   "outputs": [
    {
     "data": {
      "text/html": [
       "<div>\n",
       "<style scoped>\n",
       "    .dataframe tbody tr th:only-of-type {\n",
       "        vertical-align: middle;\n",
       "    }\n",
       "\n",
       "    .dataframe tbody tr th {\n",
       "        vertical-align: top;\n",
       "    }\n",
       "\n",
       "    .dataframe thead th {\n",
       "        text-align: right;\n",
       "    }\n",
       "</style>\n",
       "<table border=\"1\" class=\"dataframe\">\n",
       "  <thead>\n",
       "    <tr style=\"text-align: right;\">\n",
       "      <th></th>\n",
       "      <th>Contrast</th>\n",
       "      <th>A</th>\n",
       "      <th>B</th>\n",
       "      <th>Paired</th>\n",
       "      <th>Parametric</th>\n",
       "      <th>T</th>\n",
       "      <th>dof</th>\n",
       "      <th>alternative</th>\n",
       "      <th>p-unc</th>\n",
       "      <th>BF10</th>\n",
       "      <th>hedges</th>\n",
       "    </tr>\n",
       "  </thead>\n",
       "  <tbody>\n",
       "    <tr>\n",
       "      <th>0</th>\n",
       "      <td>shipment_mode</td>\n",
       "      <td>Air</td>\n",
       "      <td>Air Charter</td>\n",
       "      <td>False</td>\n",
       "      <td>True</td>\n",
       "      <td>21.180</td>\n",
       "      <td>600.686</td>\n",
       "      <td>two-sided</td>\n",
       "      <td>0.000</td>\n",
       "      <td>5.809e+76</td>\n",
       "      <td>0.727</td>\n",
       "    </tr>\n",
       "    <tr>\n",
       "      <th>1</th>\n",
       "      <td>shipment_mode</td>\n",
       "      <td>Air</td>\n",
       "      <td>Ocean</td>\n",
       "      <td>False</td>\n",
       "      <td>True</td>\n",
       "      <td>19.336</td>\n",
       "      <td>986.980</td>\n",
       "      <td>two-sided</td>\n",
       "      <td>0.000</td>\n",
       "      <td>1.129e+67</td>\n",
       "      <td>0.711</td>\n",
       "    </tr>\n",
       "    <tr>\n",
       "      <th>2</th>\n",
       "      <td>shipment_mode</td>\n",
       "      <td>Air Charter</td>\n",
       "      <td>Ocean</td>\n",
       "      <td>False</td>\n",
       "      <td>True</td>\n",
       "      <td>-3.171</td>\n",
       "      <td>35.615</td>\n",
       "      <td>two-sided</td>\n",
       "      <td>0.003</td>\n",
       "      <td>15.277</td>\n",
       "      <td>-0.424</td>\n",
       "    </tr>\n",
       "  </tbody>\n",
       "</table>\n",
       "</div>"
      ],
      "text/plain": [
       "        Contrast            A            B  Paired  Parametric      T     dof  \\\n",
       "0  shipment_mode          Air  Air Charter   False        True 21.180 600.686   \n",
       "1  shipment_mode          Air        Ocean   False        True 19.336 986.980   \n",
       "2  shipment_mode  Air Charter        Ocean   False        True -3.171  35.615   \n",
       "\n",
       "  alternative  p-unc       BF10  hedges  \n",
       "0   two-sided  0.000  5.809e+76   0.727  \n",
       "1   two-sided  0.000  1.129e+67   0.711  \n",
       "2   two-sided  0.003     15.277  -0.424  "
      ]
     },
     "execution_count": 64,
     "metadata": {},
     "output_type": "execute_result"
    }
   ],
   "source": [
    "# Pairwise t-tests\n",
    "# The ANOVA test didn't tell you which categories of shipment mode had significant differences in pack prices. To pinpoint which categories had \n",
    "# differences, you could instead use pairwise t-tests.\n",
    "# late_shipments is available and pingouin has been loaded.\n",
    "\n",
    "# Perform pairwise t-tests on late_shipments's pack_price variable, grouped by shipment_mode, without doing any p-value adjustment.\n",
    "pairwise_results= pingouin.pairwise_ttests(data= late_shipments, dv= 'pack_price', between= 'shipment_mode', padjust= 'none')\n",
    "pairwise_results"
   ]
  },
  {
   "cell_type": "code",
   "execution_count": 66,
   "id": "4853d1cd-5216-4830-87ce-70b9555f7103",
   "metadata": {},
   "outputs": [
    {
     "data": {
      "text/html": [
       "<div>\n",
       "<style scoped>\n",
       "    .dataframe tbody tr th:only-of-type {\n",
       "        vertical-align: middle;\n",
       "    }\n",
       "\n",
       "    .dataframe tbody tr th {\n",
       "        vertical-align: top;\n",
       "    }\n",
       "\n",
       "    .dataframe thead th {\n",
       "        text-align: right;\n",
       "    }\n",
       "</style>\n",
       "<table border=\"1\" class=\"dataframe\">\n",
       "  <thead>\n",
       "    <tr style=\"text-align: right;\">\n",
       "      <th></th>\n",
       "      <th>Contrast</th>\n",
       "      <th>A</th>\n",
       "      <th>B</th>\n",
       "      <th>Paired</th>\n",
       "      <th>Parametric</th>\n",
       "      <th>T</th>\n",
       "      <th>dof</th>\n",
       "      <th>alternative</th>\n",
       "      <th>p-unc</th>\n",
       "      <th>p-corr</th>\n",
       "      <th>p-adjust</th>\n",
       "      <th>BF10</th>\n",
       "      <th>hedges</th>\n",
       "    </tr>\n",
       "  </thead>\n",
       "  <tbody>\n",
       "    <tr>\n",
       "      <th>0</th>\n",
       "      <td>shipment_mode</td>\n",
       "      <td>Air</td>\n",
       "      <td>Air Charter</td>\n",
       "      <td>False</td>\n",
       "      <td>True</td>\n",
       "      <td>21.180</td>\n",
       "      <td>600.686</td>\n",
       "      <td>two-sided</td>\n",
       "      <td>0.000</td>\n",
       "      <td>0.000</td>\n",
       "      <td>bonf</td>\n",
       "      <td>5.809e+76</td>\n",
       "      <td>0.727</td>\n",
       "    </tr>\n",
       "    <tr>\n",
       "      <th>1</th>\n",
       "      <td>shipment_mode</td>\n",
       "      <td>Air</td>\n",
       "      <td>Ocean</td>\n",
       "      <td>False</td>\n",
       "      <td>True</td>\n",
       "      <td>19.336</td>\n",
       "      <td>986.980</td>\n",
       "      <td>two-sided</td>\n",
       "      <td>0.000</td>\n",
       "      <td>0.000</td>\n",
       "      <td>bonf</td>\n",
       "      <td>1.129e+67</td>\n",
       "      <td>0.711</td>\n",
       "    </tr>\n",
       "    <tr>\n",
       "      <th>2</th>\n",
       "      <td>shipment_mode</td>\n",
       "      <td>Air Charter</td>\n",
       "      <td>Ocean</td>\n",
       "      <td>False</td>\n",
       "      <td>True</td>\n",
       "      <td>-3.171</td>\n",
       "      <td>35.615</td>\n",
       "      <td>two-sided</td>\n",
       "      <td>0.003</td>\n",
       "      <td>0.009</td>\n",
       "      <td>bonf</td>\n",
       "      <td>15.277</td>\n",
       "      <td>-0.424</td>\n",
       "    </tr>\n",
       "  </tbody>\n",
       "</table>\n",
       "</div>"
      ],
      "text/plain": [
       "        Contrast            A            B  Paired  Parametric      T     dof  \\\n",
       "0  shipment_mode          Air  Air Charter   False        True 21.180 600.686   \n",
       "1  shipment_mode          Air        Ocean   False        True 19.336 986.980   \n",
       "2  shipment_mode  Air Charter        Ocean   False        True -3.171  35.615   \n",
       "\n",
       "  alternative  p-unc  p-corr p-adjust       BF10  hedges  \n",
       "0   two-sided  0.000   0.000     bonf  5.809e+76   0.727  \n",
       "1   two-sided  0.000   0.000     bonf  1.129e+67   0.711  \n",
       "2   two-sided  0.003   0.009     bonf     15.277  -0.424  "
      ]
     },
     "execution_count": 66,
     "metadata": {},
     "output_type": "execute_result"
    }
   ],
   "source": [
    "pairwise_results_bonf= pingouin.pairwise_ttests(data= late_shipments, dv= 'pack_price', between= 'shipment_mode', padjust= 'bonf')\n",
    "pairwise_results_bonf"
   ]
  },
  {
   "cell_type": "markdown",
   "id": "fa2a10a9-839f-4908-9ba7-cf5042516da8",
   "metadata": {},
   "source": [
    "# Chapter 3: Proportion Tests\n",
    "The t-test is needed for tests of mean(s) since you are estimating two unknown quantities, which leads to more variability."
   ]
  },
  {
   "cell_type": "code",
   "execution_count": null,
   "id": "ee9edc9d-bc75-4f59-9a3a-51b3778b4cdb",
   "metadata": {},
   "outputs": [],
   "source": [
    "# This is just for testing."
   ]
  }
 ],
 "metadata": {
  "kernelspec": {
   "display_name": "Python 3",
   "language": "python",
   "name": "python3"
  },
  "language_info": {
   "codemirror_mode": {
    "name": "ipython",
    "version": 3
   },
   "file_extension": ".py",
   "mimetype": "text/x-python",
   "name": "python",
   "nbconvert_exporter": "python",
   "pygments_lexer": "ipython3",
   "version": "3.8.8"
  }
 },
 "nbformat": 4,
 "nbformat_minor": 5
}
